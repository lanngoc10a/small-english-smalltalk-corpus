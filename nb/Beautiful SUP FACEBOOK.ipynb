{
 "cells": [
  {
   "cell_type": "code",
   "execution_count": 1,
   "id": "efb33c6b",
   "metadata": {},
   "outputs": [],
   "source": [
    "#!pip install beautifulsoup4"
   ]
  },
  {
   "cell_type": "code",
   "execution_count": 3,
   "id": "9951b9c2",
   "metadata": {
    "scrolled": true
   },
   "outputs": [
    {
     "name": "stdout",
     "output_type": "stream",
     "text": [
      "['What features do I still have access to in new Pages?', 'Who can manage my business presence with new Pages?', 'How can I open my new Page?', 'Switch Profile', 'Note', 'What will happen to posts I made on my classic Page?', \"Is there any content that won't migrate with my Page?\", 'What happened to my ads and content when I switched back to classic Pages?', 'Note', 'How will people find my new Page?', 'What is a Feed? How can I set up my Feed?', 'When I had a classic Page, I followed other Pages. What happens to those connections on my new Page?', 'Can others see the classic and new Pages that my new Page follows?']\n"
     ]
    }
   ],
   "source": [
    "from bs4 import BeautifulSoup\n",
    "from lxml import etree\n",
    "import requests\n",
    "import pandas as pd\n",
    "  \n",
    "URL = \"https://www.facebook.com/business/help/225696568672119?id=418112142508425\"\n",
    "\n",
    "HEADERS = ({'User-Agent':\n",
    "            'Mozilla/5.0 (X11; Linux x86_64) AppleWebKit/537.36 \\\n",
    "            (KHTML, like Gecko) Chrome/44.0.2403.157 Safari/537.36',\\\n",
    "            'Accept-Language': 'en-US, en;q=0.5'})\n",
    "  \n",
    "webpage = requests.get(URL, headers=HEADERS)\n",
    "\n",
    "soup = BeautifulSoup(webpage.content, \"html.parser\")\n",
    "results = soup.find(id=\"faq-page\")\n",
    "\n",
    "question_elements = results.find_all(\"b\", class_=\"_9o-0\")\n",
    "question_list=[]\n",
    "\n",
    "for question_element in question_elements:\n",
    "    question_list.append(question_element.text)\n",
    "    \n",
    "print(question_list)\n",
    "    #print(question_element, end=\"\\n\"*2)\n",
    "    #print(type(questions_element))\n",
    "question_list[4]\n",
    "question_list.remove(question_list[4])\n",
    "question_list.remove(question_list[7])\n",
    "\n",
    "answer_elements = results.find_all(\"ul\", class_=\"uiList _341 _3vz6 _4of _4kg\")\n",
    "answer_list=[]\n",
    "for answer_element in answer_elements:\n",
    "    answer_list.append(answer_element.text)\n",
    "    #print(answer_element, end=\"\\n\"*2)\n",
    "    \n",
    "d = {'question':question_list,'answer': answer_list}\n",
    "\n",
    "pd.set_option('display.max_colwidth', None)\n",
    "\n",
    "df = pd.DataFrame(d, columns =['question', 'answer'])\n",
    "\n",
    "df.to_csv('fb_api_qa.csv',index=False)"
   ]
  }
 ],
 "metadata": {
  "kernelspec": {
   "display_name": "Python 3",
   "language": "python",
   "name": "python3"
  },
  "language_info": {
   "codemirror_mode": {
    "name": "ipython",
    "version": 3
   },
   "file_extension": ".py",
   "mimetype": "text/x-python",
   "name": "python",
   "nbconvert_exporter": "python",
   "pygments_lexer": "ipython3",
   "version": "3.8.8"
  }
 },
 "nbformat": 4,
 "nbformat_minor": 5
}
