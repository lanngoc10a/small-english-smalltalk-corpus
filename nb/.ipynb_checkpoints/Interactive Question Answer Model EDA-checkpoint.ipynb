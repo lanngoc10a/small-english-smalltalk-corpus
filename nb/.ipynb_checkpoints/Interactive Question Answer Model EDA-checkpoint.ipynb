{
 "cells": [
  {
   "cell_type": "code",
   "execution_count": 1,
   "id": "bfa2e724",
   "metadata": {},
   "outputs": [],
   "source": [
    "import pandas as pd\n",
    "import numpy as np\n",
    "import string\n",
    "from nltk.tokenize import word_tokenize\n",
    "from nltk.tokenize import sent_tokenize\n",
    "from nltk.stem import WordNetLemmatizer\n",
    "from nltk.corpus import stopwords\n",
    "from nltk.corpus import wordnet\n",
    "from nltk import pos_tag\n",
    "from sklearn.feature_extraction.text import TfidfVectorizer\n",
    "from sklearn.metrics.pairwise import cosine_similarity\n",
    "from sklearn.decomposition import TruncatedSVD\n",
    "from collections import OrderedDict"
   ]
  },
  {
   "cell_type": "code",
   "execution_count": 2,
   "id": "12d4f76c",
   "metadata": {},
   "outputs": [],
   "source": [
    "df1 = pd.read_csv('fb_api_qa.csv')\n",
    "df2 = pd.read_csv('slack_api_qa.csv')"
   ]
  },
  {
   "cell_type": "code",
   "execution_count": 3,
   "id": "f8c329c8",
   "metadata": {},
   "outputs": [
    {
     "name": "stderr",
     "output_type": "stream",
     "text": [
      "<ipython-input-3-daa04406e889>:1: FutureWarning: The frame.append method is deprecated and will be removed from pandas in a future version. Use pandas.concat instead.\n",
      "  df = df1.append(df2)\n"
     ]
    },
    {
     "data": {
      "text/html": [
       "<div>\n",
       "<style scoped>\n",
       "    .dataframe tbody tr th:only-of-type {\n",
       "        vertical-align: middle;\n",
       "    }\n",
       "\n",
       "    .dataframe tbody tr th {\n",
       "        vertical-align: top;\n",
       "    }\n",
       "\n",
       "    .dataframe thead th {\n",
       "        text-align: right;\n",
       "    }\n",
       "</style>\n",
       "<table border=\"1\" class=\"dataframe\">\n",
       "  <thead>\n",
       "    <tr style=\"text-align: right;\">\n",
       "      <th></th>\n",
       "      <th>question</th>\n",
       "      <th>answer</th>\n",
       "    </tr>\n",
       "  </thead>\n",
       "  <tbody>\n",
       "    <tr>\n",
       "      <th>0</th>\n",
       "      <td>What features do I still have access to in new...</td>\n",
       "      <td>You will still have access to the following fe...</td>\n",
       "    </tr>\n",
       "    <tr>\n",
       "      <th>1</th>\n",
       "      <td>Who can manage my business presence with new P...</td>\n",
       "      <td>You can give Facebook access to people you tru...</td>\n",
       "    </tr>\n",
       "    <tr>\n",
       "      <th>2</th>\n",
       "      <td>How can I open my new Page?</td>\n",
       "      <td>To open your new Page on desktop: From your ho...</td>\n",
       "    </tr>\n",
       "    <tr>\n",
       "      <th>3</th>\n",
       "      <td>Switch Profile</td>\n",
       "      <td>All of your previous posts will be preserved o...</td>\n",
       "    </tr>\n",
       "    <tr>\n",
       "      <th>4</th>\n",
       "      <td>What will happen to posts I made on my classic...</td>\n",
       "      <td>Some of your Stories may not migrate.Informati...</td>\n",
       "    </tr>\n",
       "    <tr>\n",
       "      <th>5</th>\n",
       "      <td>Is there any content that won't migrate with m...</td>\n",
       "      <td>When you switched back to the classic Pages ex...</td>\n",
       "    </tr>\n",
       "    <tr>\n",
       "      <th>6</th>\n",
       "      <td>What happened to my ads and content when I swi...</td>\n",
       "      <td>Note: If you posted content again that was una...</td>\n",
       "    </tr>\n",
       "    <tr>\n",
       "      <th>7</th>\n",
       "      <td>How will people find my new Page?</td>\n",
       "      <td>Similar to classic Pages, if someone searches ...</td>\n",
       "    </tr>\n",
       "    <tr>\n",
       "      <th>8</th>\n",
       "      <td>What is a Feed? How can I set up my Feed?</td>\n",
       "      <td>Your new Page comes with a Feed that is separa...</td>\n",
       "    </tr>\n",
       "    <tr>\n",
       "      <th>9</th>\n",
       "      <td>When I had a classic Page, I followed other Pa...</td>\n",
       "      <td>These connections will migrate to your new Pag...</td>\n",
       "    </tr>\n",
       "  </tbody>\n",
       "</table>\n",
       "</div>"
      ],
      "text/plain": [
       "                                            question  \\\n",
       "0  What features do I still have access to in new...   \n",
       "1  Who can manage my business presence with new P...   \n",
       "2                        How can I open my new Page?   \n",
       "3                                     Switch Profile   \n",
       "4  What will happen to posts I made on my classic...   \n",
       "5  Is there any content that won't migrate with m...   \n",
       "6  What happened to my ads and content when I swi...   \n",
       "7                  How will people find my new Page?   \n",
       "8          What is a Feed? How can I set up my Feed?   \n",
       "9  When I had a classic Page, I followed other Pa...   \n",
       "\n",
       "                                              answer  \n",
       "0  You will still have access to the following fe...  \n",
       "1  You can give Facebook access to people you tru...  \n",
       "2  To open your new Page on desktop: From your ho...  \n",
       "3  All of your previous posts will be preserved o...  \n",
       "4  Some of your Stories may not migrate.Informati...  \n",
       "5  When you switched back to the classic Pages ex...  \n",
       "6  Note: If you posted content again that was una...  \n",
       "7  Similar to classic Pages, if someone searches ...  \n",
       "8  Your new Page comes with a Feed that is separa...  \n",
       "9  These connections will migrate to your new Pag...  "
      ]
     },
     "execution_count": 3,
     "metadata": {},
     "output_type": "execute_result"
    }
   ],
   "source": [
    "df = df1.append(df2)\n",
    "#df = df1.append([df1,df2])\n",
    "df.head(10)"
   ]
  },
  {
   "cell_type": "code",
   "execution_count": 4,
   "id": "abf6918d",
   "metadata": {},
   "outputs": [
    {
     "name": "stdout",
     "output_type": "stream",
     "text": [
      "<class 'pandas.core.frame.DataFrame'>\n",
      "Int64Index: 48 entries, 0 to 36\n",
      "Data columns (total 2 columns):\n",
      " #   Column    Non-Null Count  Dtype \n",
      "---  ------    --------------  ----- \n",
      " 0   question  48 non-null     object\n",
      " 1   answer    48 non-null     object\n",
      "dtypes: object(2)\n",
      "memory usage: 1.1+ KB\n"
     ]
    }
   ],
   "source": [
    "df.info()"
   ]
  },
  {
   "cell_type": "code",
   "execution_count": 5,
   "id": "cdee2d04",
   "metadata": {},
   "outputs": [
    {
     "data": {
      "text/plain": [
       "(48, 2)"
      ]
     },
     "execution_count": 5,
     "metadata": {},
     "output_type": "execute_result"
    }
   ],
   "source": [
    "df = df.dropna()\n",
    "df = df.drop_duplicates(subset='question')\n",
    "df.shape"
   ]
  },
  {
   "cell_type": "code",
   "execution_count": 6,
   "id": "1cad1e13",
   "metadata": {},
   "outputs": [
    {
     "data": {
      "text/html": [
       "<div>\n",
       "<style scoped>\n",
       "    .dataframe tbody tr th:only-of-type {\n",
       "        vertical-align: middle;\n",
       "    }\n",
       "\n",
       "    .dataframe tbody tr th {\n",
       "        vertical-align: top;\n",
       "    }\n",
       "\n",
       "    .dataframe thead th {\n",
       "        text-align: right;\n",
       "    }\n",
       "</style>\n",
       "<table border=\"1\" class=\"dataframe\">\n",
       "  <thead>\n",
       "    <tr style=\"text-align: right;\">\n",
       "      <th></th>\n",
       "      <th>question</th>\n",
       "      <th>answer</th>\n",
       "    </tr>\n",
       "  </thead>\n",
       "  <tbody>\n",
       "    <tr>\n",
       "      <th>0</th>\n",
       "      <td>what features do i still have access to in new...</td>\n",
       "      <td>you will still have access to the following fe...</td>\n",
       "    </tr>\n",
       "    <tr>\n",
       "      <th>1</th>\n",
       "      <td>who can manage my business presence with new p...</td>\n",
       "      <td>you can give facebook access to people you tru...</td>\n",
       "    </tr>\n",
       "    <tr>\n",
       "      <th>2</th>\n",
       "      <td>how can i open my new page?</td>\n",
       "      <td>to open your new page on desktop: from your ho...</td>\n",
       "    </tr>\n",
       "    <tr>\n",
       "      <th>3</th>\n",
       "      <td>switch profile</td>\n",
       "      <td>all of your previous posts will be preserved o...</td>\n",
       "    </tr>\n",
       "    <tr>\n",
       "      <th>4</th>\n",
       "      <td>what will happen to posts i made on my classic...</td>\n",
       "      <td>some of your stories may not migrate.informati...</td>\n",
       "    </tr>\n",
       "  </tbody>\n",
       "</table>\n",
       "</div>"
      ],
      "text/plain": [
       "                                            question  \\\n",
       "0  what features do i still have access to in new...   \n",
       "1  who can manage my business presence with new p...   \n",
       "2                        how can i open my new page?   \n",
       "3                                     switch profile   \n",
       "4  what will happen to posts i made on my classic...   \n",
       "\n",
       "                                              answer  \n",
       "0  you will still have access to the following fe...  \n",
       "1  you can give facebook access to people you tru...  \n",
       "2  to open your new page on desktop: from your ho...  \n",
       "3  all of your previous posts will be preserved o...  \n",
       "4  some of your stories may not migrate.informati...  "
      ]
     },
     "execution_count": 6,
     "metadata": {},
     "output_type": "execute_result"
    }
   ],
   "source": [
    "df['question'] = df['question'].apply(lambda x: x.lower())\n",
    "df['question'] = df['question'].str.strip()\n",
    "\n",
    "\n",
    "df['answer'] = df['answer'].apply(lambda x: x.lower())\n",
    "df['answer'] = df['answer'].str.strip(\".\")\n",
    "\n",
    "df.head()"
   ]
  },
  {
   "cell_type": "code",
   "execution_count": null,
   "id": "1c2cd7f3",
   "metadata": {},
   "outputs": [],
   "source": []
  },
  {
   "cell_type": "markdown",
   "id": "9b386c4b",
   "metadata": {},
   "source": [
    "# References:\n",
    "\n",
    "https://huggingface.co/docs/transformers/index\n",
    "\n",
    "https://jmcauley.ucsd.edu/data/amazon/qa/"
   ]
  },
  {
   "cell_type": "code",
   "execution_count": null,
   "id": "662ee5d9",
   "metadata": {},
   "outputs": [],
   "source": []
  }
 ],
 "metadata": {
  "kernelspec": {
   "display_name": "Python 3",
   "language": "python",
   "name": "python3"
  },
  "language_info": {
   "codemirror_mode": {
    "name": "ipython",
    "version": 3
   },
   "file_extension": ".py",
   "mimetype": "text/x-python",
   "name": "python",
   "nbconvert_exporter": "python",
   "pygments_lexer": "ipython3",
   "version": "3.8.8"
  }
 },
 "nbformat": 4,
 "nbformat_minor": 5
}
