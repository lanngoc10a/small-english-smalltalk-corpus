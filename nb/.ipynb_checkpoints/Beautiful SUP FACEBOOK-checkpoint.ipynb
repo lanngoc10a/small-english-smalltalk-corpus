{
 "cells": [
  {
   "cell_type": "code",
   "execution_count": 1,
   "id": "efb33c6b",
   "metadata": {},
   "outputs": [],
   "source": [
    "#!pip install beautifulsoup4"
   ]
  },
  {
   "cell_type": "code",
   "execution_count": 2,
   "id": "9951b9c2",
   "metadata": {},
   "outputs": [],
   "source": [
    "from bs4 import BeautifulSoup\n",
    "from lxml import etree\n",
    "import requests\n",
    "  \n",
    "URL = \"https://www.facebook.com/business/help/225696568672119?id=418112142508425\"\n",
    "\n",
    "HEADERS = ({'User-Agent':\n",
    "            'Mozilla/5.0 (X11; Linux x86_64) AppleWebKit/537.36 \\\n",
    "            (KHTML, like Gecko) Chrome/44.0.2403.157 Safari/537.36',\\\n",
    "            'Accept-Language': 'en-US, en;q=0.5'})\n",
    "  \n",
    "webpage = requests.get(URL, headers=HEADERS)\n",
    "\n",
    "soup = BeautifulSoup(webpage.content, \"html.parser\")\n",
    "results = soup.find(id=\"faq-page\")\n",
    "\n",
    "#print(results.prettify())"
   ]
  },
  {
   "cell_type": "code",
   "execution_count": 4,
   "id": "99e3334e",
   "metadata": {
    "scrolled": true
   },
   "outputs": [
    {
     "name": "stdout",
     "output_type": "stream",
     "text": [
      "['What features do I still have access to in new Pages?', 'Who can manage my business presence with new Pages?', 'How can I open my new Page?', 'Switch Profile', 'Note', 'What will happen to posts I made on my classic Page?', \"Is there any content that won't migrate with my Page?\", 'What happened to my ads and content when I switched back to classic Pages?', 'Note', 'How will people find my new Page?', 'What is a Feed? How can I set up my Feed?', 'When I had a classic Page, I followed other Pages. What happens to those connections on my new Page?', 'Can others see the classic and new Pages that my new Page follows?']\n"
     ]
    }
   ],
   "source": [
    "question_elements = results.find_all(\"b\", class_=\"_9o-0\")\n",
    "question_list=[]\n",
    "\n",
    "for question_element in question_elements:\n",
    "    question_list.append(question_element.text)\n",
    "    \n",
    "print(question_list)\n",
    "    #print(question_element, end=\"\\n\"*2)\n",
    "    #print(type(questions_element))\n",
    "question_list[4]\n",
    "question_list.remove(question_list[4])\n",
    "question_list.remove(question_list[7])\n",
    "\n",
    "answer_elements = results.find_all(\"ul\", class_=\"uiList _341 _3vz6 _4of _4kg\")\n",
    "answer_list=[]\n",
    "for answer_element in answer_elements:\n",
    "    answer_list.append(answer_element.text)\n",
    "    #print(answer_element, end=\"\\n\"*2)\n",
    "    \n",
    "d = {'question':question_list,'answer': answer_list}"
   ]
  },
  {
   "cell_type": "code",
   "execution_count": 5,
   "id": "139490bb",
   "metadata": {},
   "outputs": [
    {
     "data": {
      "text/html": [
       "<div>\n",
       "<style scoped>\n",
       "    .dataframe tbody tr th:only-of-type {\n",
       "        vertical-align: middle;\n",
       "    }\n",
       "\n",
       "    .dataframe tbody tr th {\n",
       "        vertical-align: top;\n",
       "    }\n",
       "\n",
       "    .dataframe thead th {\n",
       "        text-align: right;\n",
       "    }\n",
       "</style>\n",
       "<table border=\"1\" class=\"dataframe\">\n",
       "  <thead>\n",
       "    <tr style=\"text-align: right;\">\n",
       "      <th></th>\n",
       "      <th>question</th>\n",
       "      <th>answer</th>\n",
       "    </tr>\n",
       "  </thead>\n",
       "  <tbody>\n",
       "    <tr>\n",
       "      <th>0</th>\n",
       "      <td>What features do I still have access to in new Pages?</td>\n",
       "      <td>You will still have access to the following features: Feed, Instagram account linking, advertising, monetization, followers, insights, tools (such as Inbox, Stories, Groups, events), blue badge, and Page management by multiple people. See more available features.Scheduling posts is not available yet on new Pages, but can be accessed through other tools. You can schedule posts to your new Page from Meta Business Suite and Creator Studio.</td>\n",
       "    </tr>\n",
       "    <tr>\n",
       "      <th>1</th>\n",
       "      <td>Who can manage my business presence with new Pages?</td>\n",
       "      <td>You can give Facebook access to people you trust to manage your new Page. This is similar to sharing admin access on classic Pages. Learn how to give Facebook access of your new Page.You can also give task access to people to manage your new Page with tools such as Ads Manager, Meta Business Suite and Creator Studio. This is similar to assigning Page roles on classic Pages, such as editor, moderator, advertiser and analyst. Learn how to give task access to your new Page.</td>\n",
       "    </tr>\n",
       "    <tr>\n",
       "      <th>2</th>\n",
       "      <td>How can I open my new Page?</td>\n",
       "      <td>To open your new Page on desktop: From your home page, click on your profile picture in the top right. Select Switch Profile and select the new Page.To open your new Page on mobile: From the Facebook app, tap on your profile picture in the bottom right. Tap on the new Page.To switch back to your profile on desktop: From your new Page's Feed, click , select Switch Profile and select your profile.To switch back to your profile on mobile: From your new Page's Feed, tap, tap ... and select your profile.Note: You will not be able to access your classic Pages from new Pages. Switch back to your profile to see your classic Pages.</td>\n",
       "    </tr>\n",
       "    <tr>\n",
       "      <th>3</th>\n",
       "      <td>Switch Profile</td>\n",
       "      <td>All of your previous posts will be preserved on your Page, and insights will still be available for them.</td>\n",
       "    </tr>\n",
       "    <tr>\n",
       "      <th>4</th>\n",
       "      <td>What will happen to posts I made on my classic Page?</td>\n",
       "      <td>Some of your Stories may not migrate.Information on your classic Page, such as contact info, may not transition. Your bio may need to be shortened. You can edit this information by going into your About section and editing the relevant fields.Your messages, ads and other features from classic Pages will migrate, but may be in different places.</td>\n",
       "    </tr>\n",
       "    <tr>\n",
       "      <th>5</th>\n",
       "      <td>Is there any content that won't migrate with my Page?</td>\n",
       "      <td>When you switched back to the classic Pages experience, content you posted from the new Pages experience was no longer visible. When you update to the new Pages experience again, content you created from classic Page will be preserved on your new Page, and content you had shared from your new Pages experience will be visible again.Note: If you posted content again that was unavailable when you switched back to classic Pages, this content will appear twice when you return to the new Pages experience.When you switched back to classic Pages, ads you created from the new Pages experience stopped running and saved in your Ads Manager account. Their data and insights will still be available, but you will not be able to edit or restart them until you return to the new Pages experiences.</td>\n",
       "    </tr>\n",
       "    <tr>\n",
       "      <th>6</th>\n",
       "      <td>What happened to my ads and content when I switched back to classic Pages?</td>\n",
       "      <td>Note: If you posted content again that was unavailable when you switched back to classic Pages, this content will appear twice when you return to the new Pages experience.</td>\n",
       "    </tr>\n",
       "    <tr>\n",
       "      <th>7</th>\n",
       "      <td>How will people find my new Page?</td>\n",
       "      <td>Similar to classic Pages, if someone searches the name of your new Page in the search bar, they will be able to find you. Your new Page may also appear in the Pages to Follow section.</td>\n",
       "    </tr>\n",
       "    <tr>\n",
       "      <th>8</th>\n",
       "      <td>What is a Feed? How can I set up my Feed?</td>\n",
       "      <td>Your new Page comes with a Feed that is separate from your personal profile’s Feed and is dedicated to your Page presence. Anyone with Facebook access of the new Page can access and view this Feed. If you have Facebook access, you can follow public figures, brands, partners and other Pages to curate the content that appears in the Feed.</td>\n",
       "    </tr>\n",
       "    <tr>\n",
       "      <th>9</th>\n",
       "      <td>When I had a classic Page, I followed other Pages. What happens to those connections on my new Page?</td>\n",
       "      <td>These connections will migrate to your new Page and you can see their updates in your Feed.</td>\n",
       "    </tr>\n",
       "    <tr>\n",
       "      <th>10</th>\n",
       "      <td>Can others see the classic and new Pages that my new Page follows?</td>\n",
       "      <td>The classic and new Pages your new Page follows are public by default.You can change this in your new Page’s Settings.</td>\n",
       "    </tr>\n",
       "  </tbody>\n",
       "</table>\n",
       "</div>"
      ],
      "text/plain": [
       "                                                                                                question  \\\n",
       "0                                                  What features do I still have access to in new Pages?   \n",
       "1                                                    Who can manage my business presence with new Pages?   \n",
       "2                                                                            How can I open my new Page?   \n",
       "3                                                                                         Switch Profile   \n",
       "4                                                   What will happen to posts I made on my classic Page?   \n",
       "5                                                  Is there any content that won't migrate with my Page?   \n",
       "6                             What happened to my ads and content when I switched back to classic Pages?   \n",
       "7                                                                      How will people find my new Page?   \n",
       "8                                                              What is a Feed? How can I set up my Feed?   \n",
       "9   When I had a classic Page, I followed other Pages. What happens to those connections on my new Page?   \n",
       "10                                    Can others see the classic and new Pages that my new Page follows?   \n",
       "\n",
       "                                                                                                                                                                                                                                                                                                                                                                                                                                                                                                                                                                                                                                                                                                                                                                                                                     answer  \n",
       "0                                                                                                                                                                                                                                                                                                                                                                  You will still have access to the following features: Feed, Instagram account linking, advertising, monetization, followers, insights, tools (such as Inbox, Stories, Groups, events), blue badge, and Page management by multiple people. See more available features.Scheduling posts is not available yet on new Pages, but can be accessed through other tools. You can schedule posts to your new Page from Meta Business Suite and Creator Studio.  \n",
       "1                                                                                                                                                                                                                                                                                                                               You can give Facebook access to people you trust to manage your new Page. This is similar to sharing admin access on classic Pages. Learn how to give Facebook access of your new Page.You can also give task access to people to manage your new Page with tools such as Ads Manager, Meta Business Suite and Creator Studio. This is similar to assigning Page roles on classic Pages, such as editor, moderator, advertiser and analyst. Learn how to give task access to your new Page.  \n",
       "2                                                                                                                                                                    To open your new Page on desktop: From your home page, click on your profile picture in the top right. Select Switch Profile and select the new Page.To open your new Page on mobile: From the Facebook app, tap on your profile picture in the bottom right. Tap on the new Page.To switch back to your profile on desktop: From your new Page's Feed, click , select Switch Profile and select your profile.To switch back to your profile on mobile: From your new Page's Feed, tap, tap ... and select your profile.Note: You will not be able to access your classic Pages from new Pages. Switch back to your profile to see your classic Pages.  \n",
       "3                                                                                                                                                                                                                                                                                                                                                                                                                                                                                                                                                                                                                                                                                                                 All of your previous posts will be preserved on your Page, and insights will still be available for them.  \n",
       "4                                                                                                                                                                                                                                                                                                                                                                                                                                                                 Some of your Stories may not migrate.Information on your classic Page, such as contact info, may not transition. Your bio may need to be shortened. You can edit this information by going into your About section and editing the relevant fields.Your messages, ads and other features from classic Pages will migrate, but may be in different places.  \n",
       "5   When you switched back to the classic Pages experience, content you posted from the new Pages experience was no longer visible. When you update to the new Pages experience again, content you created from classic Page will be preserved on your new Page, and content you had shared from your new Pages experience will be visible again.Note: If you posted content again that was unavailable when you switched back to classic Pages, this content will appear twice when you return to the new Pages experience.When you switched back to classic Pages, ads you created from the new Pages experience stopped running and saved in your Ads Manager account. Their data and insights will still be available, but you will not be able to edit or restart them until you return to the new Pages experiences.   \n",
       "6                                                                                                                                                                                                                                                                                                                                                                                                                                                                                                                                                                                                                                               Note: If you posted content again that was unavailable when you switched back to classic Pages, this content will appear twice when you return to the new Pages experience.  \n",
       "7                                                                                                                                                                                                                                                                                                                                                                                                                                                                                                                                                                                                                                   Similar to classic Pages, if someone searches the name of your new Page in the search bar, they will be able to find you. Your new Page may also appear in the Pages to Follow section.  \n",
       "8                                                                                                                                                                                                                                                                                                                                                                                                                                                                        Your new Page comes with a Feed that is separate from your personal profile’s Feed and is dedicated to your Page presence. Anyone with Facebook access of the new Page can access and view this Feed. If you have Facebook access, you can follow public figures, brands, partners and other Pages to curate the content that appears in the Feed.  \n",
       "9                                                                                                                                                                                                                                                                                                                                                                                                                                                                                                                                                                                                                                                                                                                               These connections will migrate to your new Page and you can see their updates in your Feed.  \n",
       "10                                                                                                                                                                                                                                                                                                                                                                                                                                                                                                                                                                                                                                                                                                   The classic and new Pages your new Page follows are public by default.You can change this in your new Page’s Settings.  "
      ]
     },
     "execution_count": 5,
     "metadata": {},
     "output_type": "execute_result"
    }
   ],
   "source": [
    "import pandas as pd\n",
    "pd.set_option('display.max_colwidth', None)\n",
    "\n",
    "df = pd.DataFrame(d, columns =['question', 'answer'])\n",
    "df"
   ]
  }
 ],
 "metadata": {
  "kernelspec": {
   "display_name": "Python 3",
   "language": "python",
   "name": "python3"
  },
  "language_info": {
   "codemirror_mode": {
    "name": "ipython",
    "version": 3
   },
   "file_extension": ".py",
   "mimetype": "text/x-python",
   "name": "python",
   "nbconvert_exporter": "python",
   "pygments_lexer": "ipython3",
   "version": "3.8.8"
  }
 },
 "nbformat": 4,
 "nbformat_minor": 5
}
