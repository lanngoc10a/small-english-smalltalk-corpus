{
 "cells": [
  {
   "cell_type": "code",
   "execution_count": 20,
   "id": "8a1def72",
   "metadata": {},
   "outputs": [],
   "source": [
    "import pandas as pd\n",
    "import numpy as np\n",
    "import string\n",
    "from nltk.tokenize import word_tokenize\n",
    "from nltk.tokenize import sent_tokenize\n",
    "from nltk.stem import WordNetLemmatizer\n",
    "from nltk.corpus import stopwords\n",
    "from nltk.corpus import wordnet\n",
    "from nltk import pos_tag\n",
    "from sklearn.feature_extraction.text import TfidfVectorizer\n",
    "from sklearn.metrics.pairwise import cosine_similarity\n",
    "from sklearn.decomposition import TruncatedSVD\n",
    "from collections import OrderedDict\n",
    "#import spacy"
   ]
  },
  {
   "cell_type": "code",
   "execution_count": 21,
   "id": "88275f54",
   "metadata": {},
   "outputs": [],
   "source": [
    "df1 = pd.read_csv('fb_api_qa.csv')\n",
    "df2 = pd.read_csv('slack_api_qa.csv')"
   ]
  },
  {
   "cell_type": "code",
   "execution_count": 22,
   "id": "284b84f5",
   "metadata": {},
   "outputs": [
    {
     "name": "stderr",
     "output_type": "stream",
     "text": [
      "<ipython-input-22-b57a7b80d279>:3: FutureWarning: The frame.append method is deprecated and will be removed from pandas in a future version. Use pandas.concat instead.\n",
      "  df = df1.append(df2)\n"
     ]
    },
    {
     "data": {
      "text/html": [
       "<div>\n",
       "<style scoped>\n",
       "    .dataframe tbody tr th:only-of-type {\n",
       "        vertical-align: middle;\n",
       "    }\n",
       "\n",
       "    .dataframe tbody tr th {\n",
       "        vertical-align: top;\n",
       "    }\n",
       "\n",
       "    .dataframe thead th {\n",
       "        text-align: right;\n",
       "    }\n",
       "</style>\n",
       "<table border=\"1\" class=\"dataframe\">\n",
       "  <thead>\n",
       "    <tr style=\"text-align: right;\">\n",
       "      <th></th>\n",
       "      <th>question</th>\n",
       "      <th>answer</th>\n",
       "    </tr>\n",
       "  </thead>\n",
       "  <tbody>\n",
       "    <tr>\n",
       "      <th>0</th>\n",
       "      <td>What features do I still have access to in new Pages?</td>\n",
       "      <td>You will still have access to the following features: Feed, Instagram account linking, advertising, monetization, followers, insights, tools (such as Inbox, Stories, Groups, events), blue badge, and Page management by multiple people. See more available features.Scheduling posts is not available yet on new Pages, but can be accessed through other tools. You can schedule posts to your new Page from Meta Business Suite and Creator Studio.</td>\n",
       "    </tr>\n",
       "    <tr>\n",
       "      <th>1</th>\n",
       "      <td>Who can manage my business presence with new Pages?</td>\n",
       "      <td>You can give Facebook access to people you trust to manage your new Page. This is similar to sharing admin access on classic Pages. Learn how to give Facebook access of your new Page.You can also give task access to people to manage your new Page with tools such as Ads Manager, Meta Business Suite and Creator Studio. This is similar to assigning Page roles on classic Pages, such as editor, moderator, advertiser and analyst. Learn how to give task access to your new Page.</td>\n",
       "    </tr>\n",
       "    <tr>\n",
       "      <th>2</th>\n",
       "      <td>How can I open my new Page?</td>\n",
       "      <td>To open your new Page on desktop: From your home page, click on your profile picture in the top right. Select Switch Profile and select the new Page.To open your new Page on mobile: From the Facebook app, tap on your profile picture in the bottom right. Tap on the new Page.To switch back to your profile on desktop: From your new Page's Feed, click , select Switch Profile and select your profile.To switch back to your profile on mobile: From your new Page's Feed, tap, tap ... and select your profile.Note: You will not be able to access your classic Pages from new Pages. Switch back to your profile to see your classic Pages.</td>\n",
       "    </tr>\n",
       "    <tr>\n",
       "      <th>3</th>\n",
       "      <td>Switch Profile</td>\n",
       "      <td>All of your previous posts will be preserved on your Page, and insights will still be available for them.</td>\n",
       "    </tr>\n",
       "    <tr>\n",
       "      <th>4</th>\n",
       "      <td>What will happen to posts I made on my classic Page?</td>\n",
       "      <td>Some of your Stories may not migrate.Information on your classic Page, such as contact info, may not transition. Your bio may need to be shortened. You can edit this information by going into your About section and editing the relevant fields.Your messages, ads and other features from classic Pages will migrate, but may be in different places.</td>\n",
       "    </tr>\n",
       "  </tbody>\n",
       "</table>\n",
       "</div>"
      ],
      "text/plain": [
       "                                                question  \\\n",
       "0  What features do I still have access to in new Pages?   \n",
       "1    Who can manage my business presence with new Pages?   \n",
       "2                            How can I open my new Page?   \n",
       "3                                         Switch Profile   \n",
       "4   What will happen to posts I made on my classic Page?   \n",
       "\n",
       "                                                                                                                                                                                                                                                                                                                                                                                                                                                                                                                                                                                                                                                   answer  \n",
       "0                                                                                                                                                                                                You will still have access to the following features: Feed, Instagram account linking, advertising, monetization, followers, insights, tools (such as Inbox, Stories, Groups, events), blue badge, and Page management by multiple people. See more available features.Scheduling posts is not available yet on new Pages, but can be accessed through other tools. You can schedule posts to your new Page from Meta Business Suite and Creator Studio.  \n",
       "1                                                                                                                                                             You can give Facebook access to people you trust to manage your new Page. This is similar to sharing admin access on classic Pages. Learn how to give Facebook access of your new Page.You can also give task access to people to manage your new Page with tools such as Ads Manager, Meta Business Suite and Creator Studio. This is similar to assigning Page roles on classic Pages, such as editor, moderator, advertiser and analyst. Learn how to give task access to your new Page.  \n",
       "2  To open your new Page on desktop: From your home page, click on your profile picture in the top right. Select Switch Profile and select the new Page.To open your new Page on mobile: From the Facebook app, tap on your profile picture in the bottom right. Tap on the new Page.To switch back to your profile on desktop: From your new Page's Feed, click , select Switch Profile and select your profile.To switch back to your profile on mobile: From your new Page's Feed, tap, tap ... and select your profile.Note: You will not be able to access your classic Pages from new Pages. Switch back to your profile to see your classic Pages.  \n",
       "3                                                                                                                                                                                                                                                                                                                                                                                                                                                                                                                                               All of your previous posts will be preserved on your Page, and insights will still be available for them.  \n",
       "4                                                                                                                                                                                                                                                                                               Some of your Stories may not migrate.Information on your classic Page, such as contact info, may not transition. Your bio may need to be shortened. You can edit this information by going into your About section and editing the relevant fields.Your messages, ads and other features from classic Pages will migrate, but may be in different places.  "
      ]
     },
     "execution_count": 22,
     "metadata": {},
     "output_type": "execute_result"
    }
   ],
   "source": [
    "pd.set_option('display.max_colwidth', None)\n",
    "\n",
    "df = df1.append(df2)\n",
    "#df = df1.append([df1,df2])\n",
    "df.head(5)"
   ]
  },
  {
   "cell_type": "code",
   "execution_count": 23,
   "id": "170f995f",
   "metadata": {},
   "outputs": [
    {
     "name": "stdout",
     "output_type": "stream",
     "text": [
      "<class 'pandas.core.frame.DataFrame'>\n",
      "Int64Index: 48 entries, 0 to 36\n",
      "Data columns (total 2 columns):\n",
      " #   Column    Non-Null Count  Dtype \n",
      "---  ------    --------------  ----- \n",
      " 0   question  48 non-null     object\n",
      " 1   answer    48 non-null     object\n",
      "dtypes: object(2)\n",
      "memory usage: 1.1+ KB\n"
     ]
    }
   ],
   "source": [
    "df.info()"
   ]
  },
  {
   "cell_type": "code",
   "execution_count": 24,
   "id": "51da1a7c",
   "metadata": {},
   "outputs": [
    {
     "data": {
      "text/plain": [
       "(48, 2)"
      ]
     },
     "execution_count": 24,
     "metadata": {},
     "output_type": "execute_result"
    }
   ],
   "source": [
    "df = df.dropna()\n",
    "df = df.drop_duplicates(subset='question')\n",
    "df.shape"
   ]
  },
  {
   "cell_type": "code",
   "execution_count": 25,
   "id": "3d8cd5f0",
   "metadata": {},
   "outputs": [
    {
     "data": {
      "text/html": [
       "<div>\n",
       "<style scoped>\n",
       "    .dataframe tbody tr th:only-of-type {\n",
       "        vertical-align: middle;\n",
       "    }\n",
       "\n",
       "    .dataframe tbody tr th {\n",
       "        vertical-align: top;\n",
       "    }\n",
       "\n",
       "    .dataframe thead th {\n",
       "        text-align: right;\n",
       "    }\n",
       "</style>\n",
       "<table border=\"1\" class=\"dataframe\">\n",
       "  <thead>\n",
       "    <tr style=\"text-align: right;\">\n",
       "      <th></th>\n",
       "      <th>question</th>\n",
       "      <th>answer</th>\n",
       "    </tr>\n",
       "  </thead>\n",
       "  <tbody>\n",
       "    <tr>\n",
       "      <th>32</th>\n",
       "      <td>how do i avoid long response times and timeouts while working on behalf of large workspaces?</td>\n",
       "      <td>\\nif you're using the rtm api, use rtm.connect to initiate your websocket connection instead of rtm.start. rtm.connect returns just the data you need to open your connection.\\nif you must rtm.start, use the no_latest parameter to remove the latest field from each channel object.\\nif using channels.list, use the exclude_members parameter to trim long membership lists from each channel object.\\n\\n\\n\\n\\nteam vs. workspace \\n\\n</td>\n",
       "    </tr>\n",
       "    <tr>\n",
       "      <th>33</th>\n",
       "      <td>why is an id for a workspace is called team_id, not workspace_id?</td>\n",
       "      <td>our bad. we used to overuse the term, team which could mean two different things â€” the people you talk to, as well as the slack workspace, where the place you do work!\\n\\nnow we call workspace for all the slack workspaces, however our api remains the same as before. wherever you see some objects contains team_id, it really is an id for the workspace! in the api world, we use the two terms interchangeably.\\n\\n\\n\\ntransitioning from irc &amp; xmpp gateways \\n\\n</td>\n",
       "    </tr>\n",
       "    <tr>\n",
       "      <th>34</th>\n",
       "      <td>how can i test basic slack messaging behavior from the command line?</td>\n",
       "      <td>there are some community-authored open source tools that provide an irc-like experience on top of slack apis. although they are not directly supported or built by slack, you can leverage these resources to build your own tools.\\n\\n\\nslack-weechat is a weechat plugin written in python and uses the rtm api.\\nslack-term is written in go and uses the rtm api.\\n\\n\\n</td>\n",
       "    </tr>\n",
       "    <tr>\n",
       "      <th>35</th>\n",
       "      <td>how do i build a bot using slack apis?</td>\n",
       "      <td>bots and integrations with slack can be built a few different ways.\\n\\none common pattern is:\\n\\n\\ncreate a slack app to contain all the pieces of your bot integration at api.slack.com/apps.\\nusing app management, add the bot user and event subscriptions features to your app and configure them.\\nunder event subscriptions, subscribe to \"bot events\" like app_mention, messages.mpim, and messages.im to receive events whenever users send your bot messages in channels and direct messages. subscribe to other events your bot may be interested in.\\ninstall your slack app to your workspace through app management to activate subscriptions and receive your bot user token.\\nuse the bot user token to send messages to chat.postmessage to post new messages or reply to users.\\n\\n\\nthe rtm api may be used instead of the events api to receive messages (and many more events) over a websocket. simple messages can also be sent via the rtm api without needing to use chat.postmessage.\\n\\nto build a bot that will stand the test of time, consider the upcoming workspace token model.\\n\\nsee these open source cli apps for inspiration.\\n\\n</td>\n",
       "    </tr>\n",
       "    <tr>\n",
       "      <th>36</th>\n",
       "      <td>how do i build an irc or xmpp gateway for myself using the api?</td>\n",
       "      <td>building your own gateway for personal use is an undertaking.\\n\\nthe part of the gateway that reads from slack should either connect to the rtm api over a websocket or listen for events using the events api. use the web api to post messages and perform channel operations. the xmpp or irc part of the gateway is its own adventure to explore.\\n\\nchoose the token type that works best for you. bot user tokens work well if your user is a bot but poorly if your user is you. legacy testing tokens may work in a pinch, but properly scoped user tokens work best, as they model your own relationship to slack. the client scope is useful but overly broad and not suitable for an app distributed on the app directory.\\n\\nusing your user token to post as yourself when posting messages with chat.postmessage is best.\\n\\napps operating as a gateway should never distribute their api keys, secrets, or tokens.\\n\\nconsult these open source cli apps for some inspiration</td>\n",
       "    </tr>\n",
       "  </tbody>\n",
       "</table>\n",
       "</div>"
      ],
      "text/plain": [
       "                                                                                        question  \\\n",
       "32  how do i avoid long response times and timeouts while working on behalf of large workspaces?   \n",
       "33                             why is an id for a workspace is called team_id, not workspace_id?   \n",
       "34                          how can i test basic slack messaging behavior from the command line?   \n",
       "35                                                        how do i build a bot using slack apis?   \n",
       "36                               how do i build an irc or xmpp gateway for myself using the api?   \n",
       "\n",
       "                                                                                                                                                                                                                                                                                                                                                                                                                                                                                                                                                                                                                                                                                                                                                                                                                                                                                                                                                                                                                                                                                                                                                                     answer  \n",
       "32                                                                                                                                                                                                                                                                                                                                                                                                                                                                                                                                                                                                                                                                                                                              \\nif you're using the rtm api, use rtm.connect to initiate your websocket connection instead of rtm.start. rtm.connect returns just the data you need to open your connection.\\nif you must rtm.start, use the no_latest parameter to remove the latest field from each channel object.\\nif using channels.list, use the exclude_members parameter to trim long membership lists from each channel object.\\n\\n\\n\\n\\nteam vs. workspace \\n\\n  \n",
       "33                                                                                                                                                                                                                                                                                                                                                                                                                                                                                                                                                                                                                                                                                            our bad. we used to overuse the term, team which could mean two different things â€” the people you talk to, as well as the slack workspace, where the place you do work!\\n\\nnow we call workspace for all the slack workspaces, however our api remains the same as before. wherever you see some objects contains team_id, it really is an id for the workspace! in the api world, we use the two terms interchangeably.\\n\\n\\n\\ntransitioning from irc & xmpp gateways \\n\\n  \n",
       "34                                                                                                                                                                                                                                                                                                                                                                                                                                                                                                                                                                                                                                                                                                                                                                                              there are some community-authored open source tools that provide an irc-like experience on top of slack apis. although they are not directly supported or built by slack, you can leverage these resources to build your own tools.\\n\\n\\nslack-weechat is a weechat plugin written in python and uses the rtm api.\\nslack-term is written in go and uses the rtm api.\\n\\n\\n  \n",
       "35  bots and integrations with slack can be built a few different ways.\\n\\none common pattern is:\\n\\n\\ncreate a slack app to contain all the pieces of your bot integration at api.slack.com/apps.\\nusing app management, add the bot user and event subscriptions features to your app and configure them.\\nunder event subscriptions, subscribe to \"bot events\" like app_mention, messages.mpim, and messages.im to receive events whenever users send your bot messages in channels and direct messages. subscribe to other events your bot may be interested in.\\ninstall your slack app to your workspace through app management to activate subscriptions and receive your bot user token.\\nuse the bot user token to send messages to chat.postmessage to post new messages or reply to users.\\n\\n\\nthe rtm api may be used instead of the events api to receive messages (and many more events) over a websocket. simple messages can also be sent via the rtm api without needing to use chat.postmessage.\\n\\nto build a bot that will stand the test of time, consider the upcoming workspace token model.\\n\\nsee these open source cli apps for inspiration.\\n\\n  \n",
       "36                                                                                                                                                                            building your own gateway for personal use is an undertaking.\\n\\nthe part of the gateway that reads from slack should either connect to the rtm api over a websocket or listen for events using the events api. use the web api to post messages and perform channel operations. the xmpp or irc part of the gateway is its own adventure to explore.\\n\\nchoose the token type that works best for you. bot user tokens work well if your user is a bot but poorly if your user is you. legacy testing tokens may work in a pinch, but properly scoped user tokens work best, as they model your own relationship to slack. the client scope is useful but overly broad and not suitable for an app distributed on the app directory.\\n\\nusing your user token to post as yourself when posting messages with chat.postmessage is best.\\n\\napps operating as a gateway should never distribute their api keys, secrets, or tokens.\\n\\nconsult these open source cli apps for some inspiration  "
      ]
     },
     "execution_count": 25,
     "metadata": {},
     "output_type": "execute_result"
    }
   ],
   "source": [
    "df['question'] = df['question'].apply(lambda x: x.lower())\n",
    "df['question'] = df['question'].str.strip()\n",
    "\n",
    "\n",
    "df['answer'] = df['answer'].apply(lambda x: x.lower())\n",
    "df['answer'] = df['answer'].str.strip(\".\")\n",
    "\n",
    "df.tail()"
   ]
  },
  {
   "cell_type": "code",
   "execution_count": 15,
   "id": "50ebb11a",
   "metadata": {},
   "outputs": [
    {
     "ename": "NameError",
     "evalue": "name 'spacy' is not defined",
     "output_type": "error",
     "traceback": [
      "\u001b[0;31m---------------------------------------------------------------------------\u001b[0m",
      "\u001b[0;31mNameError\u001b[0m                                 Traceback (most recent call last)",
      "\u001b[0;32m<ipython-input-15-e8b63b722a94>\u001b[0m in \u001b[0;36m<module>\u001b[0;34m\u001b[0m\n\u001b[1;32m      1\u001b[0m \u001b[0;31m#Pre-processing\u001b[0m\u001b[0;34m\u001b[0m\u001b[0;34m\u001b[0m\u001b[0;34m\u001b[0m\u001b[0m\n\u001b[0;32m----> 2\u001b[0;31m \u001b[0mnlp\u001b[0m \u001b[0;34m=\u001b[0m \u001b[0mspacy\u001b[0m\u001b[0;34m.\u001b[0m\u001b[0mload\u001b[0m\u001b[0;34m(\u001b[0m\u001b[0;34m'en_core_web_sm'\u001b[0m\u001b[0;34m,\u001b[0m \u001b[0mdisable\u001b[0m\u001b[0;34m=\u001b[0m\u001b[0;34m[\u001b[0m\u001b[0;34m\"tagger\"\u001b[0m\u001b[0;34m,\u001b[0m \u001b[0;34m\"parser\"\u001b[0m\u001b[0;34m,\u001b[0m \u001b[0;34m\"ner\"\u001b[0m\u001b[0;34m]\u001b[0m\u001b[0;34m)\u001b[0m\u001b[0;34m\u001b[0m\u001b[0;34m\u001b[0m\u001b[0m\n\u001b[0m\u001b[1;32m      3\u001b[0m \u001b[0;34m\u001b[0m\u001b[0m\n\u001b[1;32m      4\u001b[0m \u001b[0;32mdef\u001b[0m \u001b[0mkeep_token\u001b[0m\u001b[0;34m(\u001b[0m\u001b[0mt\u001b[0m\u001b[0;34m)\u001b[0m\u001b[0;34m:\u001b[0m\u001b[0;34m\u001b[0m\u001b[0;34m\u001b[0m\u001b[0m\n\u001b[1;32m      5\u001b[0m     \u001b[0;31m# remove stop words, punct, numbers\u001b[0m\u001b[0;34m\u001b[0m\u001b[0;34m\u001b[0m\u001b[0;34m\u001b[0m\u001b[0m\n",
      "\u001b[0;31mNameError\u001b[0m: name 'spacy' is not defined"
     ]
    }
   ],
   "source": [
    "#Pre-processing\n",
    "nlp = spacy.load('en_core_web_sm', disable=[\"tagger\", \"parser\", \"ner\"])\n",
    "\n",
    "def keep_token(t):\n",
    "    # remove stop words, punct, numbers\n",
    "    return (t.is_alpha and\n",
    "            not (t.is_space or\n",
    "                 t.is_stop or t.like_num))\n",
    "\n",
    "def lemmatize_doc(doc):\n",
    "    # Lemmatize\n",
    "    return [ t.lemma_ for t in doc if keep_token(t)]"
   ]
  },
  {
   "cell_type": "code",
   "execution_count": 16,
   "id": "22ddce04",
   "metadata": {},
   "outputs": [
    {
     "ename": "SyntaxError",
     "evalue": "invalid syntax (<ipython-input-16-83447321accb>, line 1)",
     "output_type": "error",
     "traceback": [
      "\u001b[0;36m  File \u001b[0;32m\"<ipython-input-16-83447321accb>\"\u001b[0;36m, line \u001b[0;32m1\u001b[0m\n\u001b[0;31m    Language detect - recognize which language\u001b[0m\n\u001b[0m             ^\u001b[0m\n\u001b[0;31mSyntaxError\u001b[0m\u001b[0;31m:\u001b[0m invalid syntax\n"
     ]
    }
   ],
   "source": [
    "Language detect - recognize which language\n",
    "Translation possibly needed\n",
    "Removing punctuation, icons, and emojis - depending on context\n",
    "Removing stop words\n",
    "Remove numeric characters, depending on context\n",
    "Lemmatization\n",
    "Finding similarities between words\n",
    "Stemming\n",
    "Tokenization\n",
    "Typo handling\n",
    "Word2Vec\n",
    "Word Embeddings\n",
    "If data is from scraping or API - extracting useful text\n",
    "OCR/similar for PDF text extraction\n",
    "Get sentences out of the text\n",
    "All of these steps might be model dependent, make sure your input conforms with the expected inputs\n",
    "Continuous BoW"
   ]
  },
  {
   "cell_type": "code",
   "execution_count": 17,
   "id": "06df8945",
   "metadata": {},
   "outputs": [
    {
     "ename": "SyntaxError",
     "evalue": "invalid syntax (<ipython-input-17-ac3b3920d8b9>, line 1)",
     "output_type": "error",
     "traceback": [
      "\u001b[0;36m  File \u001b[0;32m\"<ipython-input-17-ac3b3920d8b9>\"\u001b[0;36m, line \u001b[0;32m1\u001b[0m\n\u001b[0;31m    removing punctuations, icons and emojis might depend on the context, removing white space\u001b[0m\n\u001b[0m             ^\u001b[0m\n\u001b[0;31mSyntaxError\u001b[0m\u001b[0;31m:\u001b[0m invalid syntax\n"
     ]
    }
   ],
   "source": [
    "removing punctuations, icons and emojis might depend on the context, removing white space\n",
    "lematization, kind of similarity measure, stop word removal\n",
    "stemming, lematization, tokenization, fixing typos and encoding\n",
    "extract the text from the source, cleaning of the text that might be removing some special characters...\n",
    "matching data preprocessing with the model that we are using\n",
    "bag of words, text generation with GAN - this part would not be preprocessing, but data generations, LDA"
   ]
  },
  {
   "cell_type": "markdown",
   "id": "75367b8b",
   "metadata": {},
   "source": [
    "# References:\n",
    "\n",
    "https://github.com/rrruss/knowledge-base-chatter/blob/main/question_generation/prepare_data.py\n",
    "\n",
    "https://huggingface.co/docs/transformers/index\n",
    "\n",
    "https://jmcauley.ucsd.edu/data/amazon/qa/"
   ]
  },
  {
   "cell_type": "code",
   "execution_count": null,
   "id": "167390b3",
   "metadata": {},
   "outputs": [],
   "source": []
  }
 ],
 "metadata": {
  "kernelspec": {
   "display_name": "Python 3",
   "language": "python",
   "name": "python3"
  },
  "language_info": {
   "codemirror_mode": {
    "name": "ipython",
    "version": 3
   },
   "file_extension": ".py",
   "mimetype": "text/x-python",
   "name": "python",
   "nbconvert_exporter": "python",
   "pygments_lexer": "ipython3",
   "version": "3.8.8"
  }
 },
 "nbformat": 4,
 "nbformat_minor": 5
}
